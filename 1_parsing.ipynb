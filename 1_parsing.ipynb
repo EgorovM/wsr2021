{
 "cells": [
  {
   "cell_type": "markdown",
   "id": "f7f10c82-f679-437b-afee-6f4dd14e535d",
   "metadata": {},
   "source": [
    "План:\n",
    "- достать относительные ссылки /media/opendata/asd.geojson\n",
    "- собрать полную ссылку https://dtp-stat.ru//media/opendata/asd.geojson\n",
    "- скачать данные с полной ссылки"
   ]
  },
  {
   "cell_type": "code",
   "execution_count": 10,
   "id": "17bb4d01-a9e5-4044-b391-ba4842d27f6b",
   "metadata": {},
   "outputs": [],
   "source": [
    "import requests\n",
    "import bs4"
   ]
  },
  {
   "cell_type": "code",
   "execution_count": 6,
   "id": "61bd5db1-973b-4a12-8051-8729ee4451fb",
   "metadata": {},
   "outputs": [],
   "source": [
    "r = requests.get('https://dtp-stat.ru/opendata/')"
   ]
  },
  {
   "cell_type": "code",
   "execution_count": 11,
   "id": "9ecd0c05-19ec-4e38-b4ba-26340a9119d9",
   "metadata": {},
   "outputs": [],
   "source": [
    "soup = bs4.BeautifulSoup(r.content)"
   ]
  },
  {
   "cell_type": "code",
   "execution_count": 27,
   "id": "1cc67052-cd91-46e1-8946-ca06d7d3db7e",
   "metadata": {},
   "outputs": [],
   "source": [
    "links = []\n",
    "\n",
    "for a_tag in soup.find_all('a'):\n",
    "    if a_tag['href'].endswith('geojson'):\n",
    "        links.append('https://dtp-stat.ru' + a_tag['href'])"
   ]
  },
  {
   "cell_type": "code",
   "execution_count": 29,
   "id": "2c80b199-5084-4511-9ec0-edfec07b7078",
   "metadata": {},
   "outputs": [],
   "source": [
    "import urllib"
   ]
  },
  {
   "cell_type": "code",
   "execution_count": 35,
   "id": "fc866448-d643-44eb-9cc5-c709ff34fd62",
   "metadata": {},
   "outputs": [
    {
     "data": {
      "text/plain": [
       "'https://dtp-stat.ru/media/opendata/altaiskii-krai.geojson'"
      ]
     },
     "execution_count": 35,
     "metadata": {},
     "output_type": "execute_result"
    }
   ],
   "source": [
    "links[0]"
   ]
  },
  {
   "cell_type": "code",
   "execution_count": 36,
   "id": "e95257d8-746a-407e-8ddf-cb60c70c5c1c",
   "metadata": {},
   "outputs": [],
   "source": [
    "for link in links:\n",
    "    file_name = link.split('/')[-1]\n",
    "    urllib.request.urlretrieve(link, 'data/' + file_name)"
   ]
  },
  {
   "cell_type": "code",
   "execution_count": null,
   "id": "ed2b876c-0caa-44fe-a022-987f2e65cc35",
   "metadata": {},
   "outputs": [],
   "source": []
  }
 ],
 "metadata": {
  "kernelspec": {
   "display_name": "Python 3 (ipykernel)",
   "language": "python",
   "name": "python3"
  },
  "language_info": {
   "codemirror_mode": {
    "name": "ipython",
    "version": 3
   },
   "file_extension": ".py",
   "mimetype": "text/x-python",
   "name": "python",
   "nbconvert_exporter": "python",
   "pygments_lexer": "ipython3",
   "version": "3.9.7"
  }
 },
 "nbformat": 4,
 "nbformat_minor": 5
}
