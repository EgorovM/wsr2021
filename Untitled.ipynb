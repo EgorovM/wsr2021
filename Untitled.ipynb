{
 "cells": [
  {
   "cell_type": "markdown",
   "id": "a6f04855-d8f1-4665-bf34-9cfd08116e85",
   "metadata": {},
   "source": [
    "# Структуры данных"
   ]
  },
  {
   "cell_type": "markdown",
   "id": "76a3494f-c4da-4352-8eab-3e66eb47f54a",
   "metadata": {},
   "source": [
    "### JSON\n",
    "\n",
    "```\n",
    "{\n",
    "  \"asd\": 1,\n",
    "  \"foo\": \"str\",\n",
    "  \"array\": [1, 2, 3],\n",
    "  \"object\": {\n",
    "      \"a\": 1\n",
    "  }\n",
    "}\n",
    "```"
   ]
  },
  {
   "cell_type": "code",
   "execution_count": 1,
   "id": "e419c856-8ebb-4806-845b-be9d063b95d8",
   "metadata": {},
   "outputs": [],
   "source": [
    "a = {\n",
    "  \"asd\": 1,\n",
    "  \"foo\": \"str\",\n",
    "  \"array\": [1, 2, 3],\n",
    "  \"object\": {\n",
    "      \"a\": 1\n",
    "  }\n",
    "}"
   ]
  },
  {
   "cell_type": "code",
   "execution_count": 12,
   "id": "3816d739-666a-442f-8c1f-4779d67f8ac7",
   "metadata": {},
   "outputs": [
    {
     "data": {
      "text/plain": [
       "(1, {'a': 1})"
      ]
     },
     "execution_count": 12,
     "metadata": {},
     "output_type": "execute_result"
    }
   ],
   "source": [
    "a['asd'], a['object']"
   ]
  },
  {
   "cell_type": "markdown",
   "id": "5891a827-ab99-4069-800c-64ea0cbc2b0c",
   "metadata": {},
   "source": [
    "#### Чтение"
   ]
  },
  {
   "cell_type": "code",
   "execution_count": 1,
   "id": "6cdeeec5-46da-42d8-b12c-52e2aa887914",
   "metadata": {},
   "outputs": [],
   "source": [
    "import json"
   ]
  },
  {
   "cell_type": "code",
   "execution_count": 92,
   "id": "ee857c79-2988-412b-80b0-4489db597d66",
   "metadata": {},
   "outputs": [],
   "source": [
    "f = open('data/altaiskii-krai.geojson', 'r')"
   ]
  },
  {
   "cell_type": "code",
   "execution_count": 23,
   "id": "bce73b7a-3542-451d-8df1-54264dc4c22f",
   "metadata": {},
   "outputs": [],
   "source": [
    "altaiskii_json = json.loads(f.read())"
   ]
  },
  {
   "cell_type": "code",
   "execution_count": 2,
   "id": "cbe52858-576c-4dd0-b40e-be77a341038d",
   "metadata": {},
   "outputs": [],
   "source": [
    "import pandas as pd\n",
    "from collections import defaultdict"
   ]
  },
  {
   "cell_type": "code",
   "execution_count": 89,
   "id": "ef8c090e-5a1a-411e-b111-5595ecce7774",
   "metadata": {},
   "outputs": [],
   "source": [
    "data = defaultdict(list)\n",
    "weathers = set()\n",
    "\n",
    "for feature in altaiskii_json['features']:\n",
    "    properties = feature['properties']\n",
    "    weathers.update(properties['weather'])\n",
    "    \n",
    "    \n",
    "for feature in altaiskii_json['features']:\n",
    "    properties = feature['properties']\n",
    "    \n",
    "    data['datetime'].append(properties['datetime'])\n",
    "    data['light'].append(properties['light'])\n",
    "    data['lat'].append(properties['point']['lat'])\n",
    "    data['lon'].append(properties['point']['long'])\n",
    "    data['category'].append(properties['category'])\n",
    "    \n",
    "    for weather in weathers:\n",
    "        if weather in properties['weather']:\n",
    "            value = 1\n",
    "        else:\n",
    "            value = 0\n",
    "            \n",
    "        data['weather_' + weather].append(value)\n",
    "        \n",
    "    data['dead_count'].append(properties['dead_count'])"
   ]
  },
  {
   "cell_type": "code",
   "execution_count": 90,
   "id": "163ff3a6-d8cb-439e-85f3-a58089c3052c",
   "metadata": {},
   "outputs": [],
   "source": [
    "general_df = pd.DataFrame(data)"
   ]
  },
  {
   "cell_type": "code",
   "execution_count": 3,
   "id": "d37ee537-820d-4844-a307-172789a08fc7",
   "metadata": {},
   "outputs": [],
   "source": [
    "general_df = pd.read_csv('dtp.csv', sep='\\t')"
   ]
  },
  {
   "cell_type": "code",
   "execution_count": 7,
   "id": "64e1c1f1-1c00-4c8f-8e87-e453fc3148bc",
   "metadata": {},
   "outputs": [],
   "source": [
    "import pickle"
   ]
  },
  {
   "cell_type": "code",
   "execution_count": 9,
   "id": "f814f5e3-b0e0-434b-8256-9ec0f767f304",
   "metadata": {},
   "outputs": [],
   "source": [
    "from sklearn.cluster import KMeans"
   ]
  },
  {
   "cell_type": "code",
   "execution_count": 19,
   "id": "6319559c-cdd8-4ab1-af31-60d7e9dfe656",
   "metadata": {},
   "outputs": [
    {
     "data": {
      "text/plain": [
       "KMeans(n_clusters=10)"
      ]
     },
     "execution_count": 19,
     "metadata": {},
     "output_type": "execute_result"
    }
   ],
   "source": [
    "knn = KMeans(n_clusters=10)\n",
    "knn.fit(general_df[['lat', 'lon']].dropna())"
   ]
  },
  {
   "cell_type": "code",
   "execution_count": 20,
   "id": "5a69cff2-dd01-4d84-85ad-4ea40c671e7e",
   "metadata": {},
   "outputs": [],
   "source": [
    "general_df.dropna(inplace=True)"
   ]
  },
  {
   "cell_type": "code",
   "execution_count": 21,
   "id": "ff8aee10-1bad-42e1-9d12-5373e9a457f2",
   "metadata": {},
   "outputs": [],
   "source": [
    "general_df['cluster'] = knn.predict(general_df[['lat', 'lon']])"
   ]
  },
  {
   "cell_type": "code",
   "execution_count": null,
   "id": "f4b1099f-75ad-4259-84b1-5764802bc2e2",
   "metadata": {},
   "outputs": [
    {
     "data": {
      "text/plain": [
       "<AxesSubplot:ylabel='Frequency'>"
      ]
     },
     "execution_count": 22,
     "metadata": {},
     "output_type": "execute_result"
    },
    {
     "data": {
      "image/png": "[encoded data removed]",
      "text/plain": [
       "<Figure size 432x288 with 1 Axes>"
      ]
     },
     "metadata": {
      "needs_background": "light"
     },
     "output_type": "display_data"
    }
   ],
   "source": [
    "general_df.cluster.plot.hist()"
   ]
  },
  {
   "cell_type": "markdown",
   "id": "d1124064-cb2e-41d1-9aac-42054b13a32a",
   "metadata": {},
   "source": [
    "### Файлы в системе"
   ]
  },
  {
   "cell_type": "code",
   "execution_count": 109,
   "id": "0ffeac41-53df-4e19-b2b5-23adbb67e063",
   "metadata": {},
   "outputs": [],
   "source": [
    "from tqdm import tqdm"
   ]
  },
  {
   "cell_type": "code",
   "execution_count": 110,
   "id": "15d497e6-a011-4471-902e-6e19e35893c7",
   "metadata": {},
   "outputs": [
    {
     "name": "stderr",
     "output_type": "stream",
     "text": [
      "100%|█████████████████████████████████████████████████████████████████| 26/26 [00:26<00:00,  1.03s/it]\n"
     ]
    }
   ],
   "source": [
    "data = defaultdict(list)\n",
    "weathers = set()\n",
    "\n",
    "for filepath in tqdm(glob.glob('data/*')):\n",
    "    f = open(filepath, 'r')\n",
    "    city_json = json.loads(f.read())\n",
    "    \n",
    "    for feature in city_json['features']:\n",
    "        properties = feature['properties']\n",
    "        weathers.update(properties['weather'])\n",
    "\n",
    "\n",
    "    for feature in city_json['features']:\n",
    "        properties = feature['properties']\n",
    "        \n",
    "        data['region'].append(properties['region'])\n",
    "        data['datetime'].append(properties['datetime'])\n",
    "        data['light'].append(properties['light'])\n",
    "        data['lat'].append(properties['point']['lat'])\n",
    "        data['lon'].append(properties['point']['long'])\n",
    "        data['category'].append(properties['category'])\n",
    "\n",
    "        for weather in weathers:\n",
    "            if weather in properties['weather']:\n",
    "                value = 1\n",
    "            else:\n",
    "                value = 0\n",
    "\n",
    "            data['weather_' + weather].append(value)\n",
    "\n",
    "        data['dead_count'].append(properties['dead_count'])"
   ]
  },
  {
   "cell_type": "code",
   "execution_count": 111,
   "id": "f7dd5839-3e0e-41dc-9573-4e76a10eb19b",
   "metadata": {},
   "outputs": [],
   "source": [
    "general_df = pd.DataFrame(data)"
   ]
  },
  {
   "cell_type": "code",
   "execution_count": 144,
   "id": "e3db8db9-9ed9-498f-8dcd-eed1fad1dfac",
   "metadata": {},
   "outputs": [],
   "source": [
    "general_df.to_csv('dtp.csv', sep='\\t', index=False)"
   ]
  },
  {
   "cell_type": "code",
   "execution_count": 26,
   "id": "bc66a39b-2c3a-43b9-95b8-edadcfcc1234",
   "metadata": {},
   "outputs": [],
   "source": [
    "general_df = pd.read_csv('dtp.csv', sep='\\t', index_col=0)"
   ]
  },
  {
   "cell_type": "code",
   "execution_count": 28,
   "id": "32c22d49-41ad-45ec-927f-79523ab48803",
   "metadata": {},
   "outputs": [
    {
     "data": {
      "text/html": [
       "<div>\n",
       "<style scoped>\n",
       "    .dataframe tbody tr th:only-of-type {\n",
       "        vertical-align: middle;\n",
       "    }\n",
       "\n",
       "    .dataframe tbody tr th {\n",
       "        vertical-align: top;\n",
       "    }\n",
       "\n",
       "    .dataframe thead th {\n",
       "        text-align: right;\n",
       "    }\n",
       "</style>\n",
       "<table border=\"1\" class=\"dataframe\">\n",
       "  <thead>\n",
       "    <tr style=\"text-align: right;\">\n",
       "      <th></th>\n",
       "      <th>region</th>\n",
       "      <th>datetime</th>\n",
       "      <th>light</th>\n",
       "      <th>lat</th>\n",
       "      <th>lon</th>\n",
       "      <th>category</th>\n",
       "      <th>weather_Метель</th>\n",
       "      <th>weather_Ураганный ветер</th>\n",
       "      <th>weather_Туман</th>\n",
       "      <th>weather_Температура ниже -30С</th>\n",
       "      <th>weather_Пасмурно</th>\n",
       "      <th>weather_Температура выше +30С</th>\n",
       "      <th>weather_Снегопад</th>\n",
       "      <th>weather_Дождь</th>\n",
       "      <th>weather_Ясно</th>\n",
       "      <th>dead_count</th>\n",
       "    </tr>\n",
       "    <tr>\n",
       "      <th>Unnamed: 0</th>\n",
       "      <th></th>\n",
       "      <th></th>\n",
       "      <th></th>\n",
       "      <th></th>\n",
       "      <th></th>\n",
       "      <th></th>\n",
       "      <th></th>\n",
       "      <th></th>\n",
       "      <th></th>\n",
       "      <th></th>\n",
       "      <th></th>\n",
       "      <th></th>\n",
       "      <th></th>\n",
       "      <th></th>\n",
       "      <th></th>\n",
       "      <th></th>\n",
       "    </tr>\n",
       "  </thead>\n",
       "  <tbody>\n",
       "    <tr>\n",
       "      <th>0</th>\n",
       "      <td>Чернышковский</td>\n",
       "      <td>2021-11-19 11:35:00</td>\n",
       "      <td>Светлое время суток</td>\n",
       "      <td>48.058305</td>\n",
       "      <td>42.376692</td>\n",
       "      <td>Столкновение</td>\n",
       "      <td>0</td>\n",
       "      <td>0</td>\n",
       "      <td>0</td>\n",
       "      <td>0</td>\n",
       "      <td>1</td>\n",
       "      <td>0</td>\n",
       "      <td>0</td>\n",
       "      <td>0</td>\n",
       "      <td>0</td>\n",
       "      <td>0</td>\n",
       "    </tr>\n",
       "    <tr>\n",
       "      <th>1</th>\n",
       "      <td>Чернышковский</td>\n",
       "      <td>2021-11-03 02:30:00</td>\n",
       "      <td>В темное время суток, освещение отсутствует</td>\n",
       "      <td>48.391983</td>\n",
       "      <td>42.322276</td>\n",
       "      <td>Съезд с дороги</td>\n",
       "      <td>0</td>\n",
       "      <td>0</td>\n",
       "      <td>0</td>\n",
       "      <td>0</td>\n",
       "      <td>0</td>\n",
       "      <td>0</td>\n",
       "      <td>0</td>\n",
       "      <td>1</td>\n",
       "      <td>0</td>\n",
       "      <td>0</td>\n",
       "    </tr>\n",
       "    <tr>\n",
       "      <th>2</th>\n",
       "      <td>Чернышковский</td>\n",
       "      <td>2020-12-20 12:00:00</td>\n",
       "      <td>Светлое время суток</td>\n",
       "      <td>48.400175</td>\n",
       "      <td>42.226167</td>\n",
       "      <td>Столкновение</td>\n",
       "      <td>0</td>\n",
       "      <td>0</td>\n",
       "      <td>0</td>\n",
       "      <td>0</td>\n",
       "      <td>0</td>\n",
       "      <td>0</td>\n",
       "      <td>0</td>\n",
       "      <td>0</td>\n",
       "      <td>1</td>\n",
       "      <td>0</td>\n",
       "    </tr>\n",
       "    <tr>\n",
       "      <th>3</th>\n",
       "      <td>Чернышковский</td>\n",
       "      <td>2016-06-06 14:50:00</td>\n",
       "      <td>Светлое время суток</td>\n",
       "      <td>48.291002</td>\n",
       "      <td>42.277859</td>\n",
       "      <td>Столкновение</td>\n",
       "      <td>0</td>\n",
       "      <td>0</td>\n",
       "      <td>0</td>\n",
       "      <td>0</td>\n",
       "      <td>1</td>\n",
       "      <td>0</td>\n",
       "      <td>0</td>\n",
       "      <td>0</td>\n",
       "      <td>0</td>\n",
       "      <td>0</td>\n",
       "    </tr>\n",
       "    <tr>\n",
       "      <th>4</th>\n",
       "      <td>Чернышковский</td>\n",
       "      <td>2019-04-06 16:45:00</td>\n",
       "      <td>Светлое время суток</td>\n",
       "      <td>48.400146</td>\n",
       "      <td>42.226381</td>\n",
       "      <td>Столкновение</td>\n",
       "      <td>0</td>\n",
       "      <td>0</td>\n",
       "      <td>0</td>\n",
       "      <td>0</td>\n",
       "      <td>0</td>\n",
       "      <td>0</td>\n",
       "      <td>0</td>\n",
       "      <td>0</td>\n",
       "      <td>1</td>\n",
       "      <td>0</td>\n",
       "    </tr>\n",
       "    <tr>\n",
       "      <th>...</th>\n",
       "      <td>...</td>\n",
       "      <td>...</td>\n",
       "      <td>...</td>\n",
       "      <td>...</td>\n",
       "      <td>...</td>\n",
       "      <td>...</td>\n",
       "      <td>...</td>\n",
       "      <td>...</td>\n",
       "      <td>...</td>\n",
       "      <td>...</td>\n",
       "      <td>...</td>\n",
       "      <td>...</td>\n",
       "      <td>...</td>\n",
       "      <td>...</td>\n",
       "      <td>...</td>\n",
       "      <td>...</td>\n",
       "    </tr>\n",
       "    <tr>\n",
       "      <th>326512</th>\n",
       "      <td>Нововоронеж</td>\n",
       "      <td>2015-06-08 19:25:00</td>\n",
       "      <td>Светлое время суток</td>\n",
       "      <td>51.310278</td>\n",
       "      <td>39.201667</td>\n",
       "      <td>Наезд на пешехода</td>\n",
       "      <td>0</td>\n",
       "      <td>0</td>\n",
       "      <td>0</td>\n",
       "      <td>0</td>\n",
       "      <td>0</td>\n",
       "      <td>0</td>\n",
       "      <td>0</td>\n",
       "      <td>0</td>\n",
       "      <td>1</td>\n",
       "      <td>0</td>\n",
       "    </tr>\n",
       "    <tr>\n",
       "      <th>326513</th>\n",
       "      <td>Нововоронеж</td>\n",
       "      <td>2019-11-23 16:00:00</td>\n",
       "      <td>Светлое время суток</td>\n",
       "      <td>51.317712</td>\n",
       "      <td>39.212769</td>\n",
       "      <td>Столкновение</td>\n",
       "      <td>0</td>\n",
       "      <td>0</td>\n",
       "      <td>0</td>\n",
       "      <td>0</td>\n",
       "      <td>0</td>\n",
       "      <td>0</td>\n",
       "      <td>0</td>\n",
       "      <td>0</td>\n",
       "      <td>1</td>\n",
       "      <td>0</td>\n",
       "    </tr>\n",
       "    <tr>\n",
       "      <th>326514</th>\n",
       "      <td>Нововоронеж</td>\n",
       "      <td>2016-03-04 13:10:00</td>\n",
       "      <td>Светлое время суток</td>\n",
       "      <td>51.334200</td>\n",
       "      <td>39.277800</td>\n",
       "      <td>Наезд на пешехода</td>\n",
       "      <td>0</td>\n",
       "      <td>0</td>\n",
       "      <td>0</td>\n",
       "      <td>0</td>\n",
       "      <td>0</td>\n",
       "      <td>0</td>\n",
       "      <td>0</td>\n",
       "      <td>0</td>\n",
       "      <td>1</td>\n",
       "      <td>0</td>\n",
       "    </tr>\n",
       "    <tr>\n",
       "      <th>326515</th>\n",
       "      <td>Нововоронеж</td>\n",
       "      <td>2017-03-08 19:20:00</td>\n",
       "      <td>В темное время суток, освещение отсутствует</td>\n",
       "      <td>51.322500</td>\n",
       "      <td>39.223600</td>\n",
       "      <td>Наезд на пешехода</td>\n",
       "      <td>0</td>\n",
       "      <td>0</td>\n",
       "      <td>0</td>\n",
       "      <td>0</td>\n",
       "      <td>0</td>\n",
       "      <td>0</td>\n",
       "      <td>0</td>\n",
       "      <td>0</td>\n",
       "      <td>1</td>\n",
       "      <td>0</td>\n",
       "    </tr>\n",
       "    <tr>\n",
       "      <th>326516</th>\n",
       "      <td>Нововоронеж</td>\n",
       "      <td>2019-12-10 23:40:00</td>\n",
       "      <td>В темное время суток, освещение отсутствует</td>\n",
       "      <td>51.334406</td>\n",
       "      <td>39.261832</td>\n",
       "      <td>Наезд на препятствие</td>\n",
       "      <td>0</td>\n",
       "      <td>0</td>\n",
       "      <td>1</td>\n",
       "      <td>0</td>\n",
       "      <td>0</td>\n",
       "      <td>0</td>\n",
       "      <td>0</td>\n",
       "      <td>0</td>\n",
       "      <td>0</td>\n",
       "      <td>0</td>\n",
       "    </tr>\n",
       "  </tbody>\n",
       "</table>\n",
       "<p>326517 rows × 16 columns</p>\n",
       "</div>"
      ],
      "text/plain": [
       "                   region             datetime  \\\n",
       "Unnamed: 0                                       \n",
       "0           Чернышковский  2021-11-19 11:35:00   \n",
       "1           Чернышковский  2021-11-03 02:30:00   \n",
       "2           Чернышковский  2020-12-20 12:00:00   \n",
       "3           Чернышковский  2016-06-06 14:50:00   \n",
       "4           Чернышковский  2019-04-06 16:45:00   \n",
       "...                   ...                  ...   \n",
       "326512        Нововоронеж  2015-06-08 19:25:00   \n",
       "326513        Нововоронеж  2019-11-23 16:00:00   \n",
       "326514        Нововоронеж  2016-03-04 13:10:00   \n",
       "326515        Нововоронеж  2017-03-08 19:20:00   \n",
       "326516        Нововоронеж  2019-12-10 23:40:00   \n",
       "\n",
       "                                                  light        lat        lon  \\\n",
       "Unnamed: 0                                                                      \n",
       "0                                   Светлое время суток  48.058305  42.376692   \n",
       "1           В темное время суток, освещение отсутствует  48.391983  42.322276   \n",
       "2                                   Светлое время суток  48.400175  42.226167   \n",
       "3                                   Светлое время суток  48.291002  42.277859   \n",
       "4                                   Светлое время суток  48.400146  42.226381   \n",
       "...                                                 ...        ...        ...   \n",
       "326512                              Светлое время суток  51.310278  39.201667   \n",
       "326513                              Светлое время суток  51.317712  39.212769   \n",
       "326514                              Светлое время суток  51.334200  39.277800   \n",
       "326515      В темное время суток, освещение отсутствует  51.322500  39.223600   \n",
       "326516      В темное время суток, освещение отсутствует  51.334406  39.261832   \n",
       "\n",
       "                        category  weather_Метель  weather_Ураганный ветер  \\\n",
       "Unnamed: 0                                                                  \n",
       "0                   Столкновение               0                        0   \n",
       "1                 Съезд с дороги               0                        0   \n",
       "2                   Столкновение               0                        0   \n",
       "3                   Столкновение               0                        0   \n",
       "4                   Столкновение               0                        0   \n",
       "...                          ...             ...                      ...   \n",
       "326512         Наезд на пешехода               0                        0   \n",
       "326513              Столкновение               0                        0   \n",
       "326514         Наезд на пешехода               0                        0   \n",
       "326515         Наезд на пешехода               0                        0   \n",
       "326516      Наезд на препятствие               0                        0   \n",
       "\n",
       "            weather_Туман  weather_Температура ниже -30С  weather_Пасмурно  \\\n",
       "Unnamed: 0                                                                   \n",
       "0                       0                              0                 1   \n",
       "1                       0                              0                 0   \n",
       "2                       0                              0                 0   \n",
       "3                       0                              0                 1   \n",
       "4                       0                              0                 0   \n",
       "...                   ...                            ...               ...   \n",
       "326512                  0                              0                 0   \n",
       "326513                  0                              0                 0   \n",
       "326514                  0                              0                 0   \n",
       "326515                  0                              0                 0   \n",
       "326516                  1                              0                 0   \n",
       "\n",
       "            weather_Температура выше +30С  weather_Снегопад  weather_Дождь  \\\n",
       "Unnamed: 0                                                                   \n",
       "0                                       0                 0              0   \n",
       "1                                       0                 0              1   \n",
       "2                                       0                 0              0   \n",
       "3                                       0                 0              0   \n",
       "4                                       0                 0              0   \n",
       "...                                   ...               ...            ...   \n",
       "326512                                  0                 0              0   \n",
       "326513                                  0                 0              0   \n",
       "326514                                  0                 0              0   \n",
       "326515                                  0                 0              0   \n",
       "326516                                  0                 0              0   \n",
       "\n",
       "            weather_Ясно  dead_count  \n",
       "Unnamed: 0                            \n",
       "0                      0           0  \n",
       "1                      0           0  \n",
       "2                      1           0  \n",
       "3                      0           0  \n",
       "4                      1           0  \n",
       "...                  ...         ...  \n",
       "326512                 1           0  \n",
       "326513                 1           0  \n",
       "326514                 1           0  \n",
       "326515                 1           0  \n",
       "326516                 0           0  \n",
       "\n",
       "[326517 rows x 16 columns]"
      ]
     },
     "execution_count": 28,
     "metadata": {},
     "output_type": "execute_result"
    }
   ],
   "source": [
    "general_df"
   ]
  },
  {
   "cell_type": "code",
   "execution_count": 29,
   "id": "515c4007-86d2-4611-9337-15e23b35dce0",
   "metadata": {},
   "outputs": [],
   "source": [
    "from sklearn.cluster import KMeans"
   ]
  },
  {
   "cell_type": "code",
   "execution_count": 33,
   "id": "0b33eeec-818d-4499-8970-70fb8ba8256a",
   "metadata": {},
   "outputs": [],
   "source": [
    "general_df.dropna(inplace=True)"
   ]
  },
  {
   "cell_type": "code",
   "execution_count": 34,
   "id": "520c3240-259d-42fe-ad4e-15fed6021db8",
   "metadata": {},
   "outputs": [
    {
     "data": {
      "text/plain": [
       "KMeans(n_clusters=10)"
      ]
     },
     "execution_count": 34,
     "metadata": {},
     "output_type": "execute_result"
    }
   ],
   "source": [
    "knn = KMeans(n_clusters=10) # локоть подобрать\n",
    "knn.fit(general_df[['lat', 'lon']])"
   ]
  },
  {
   "cell_type": "code",
   "execution_count": 49,
   "id": "66b6d79f-a19a-491e-a894-a131146479bc",
   "metadata": {},
   "outputs": [
    {
     "name": "stderr",
     "output_type": "stream",
     "text": [
      "/Users/michil/.virtualenvs/base/lib/python3.8/site-packages/sklearn/base.py:445: UserWarning: X does not have valid feature names, but KMeans was fitted with feature names\n",
      "  warnings.warn(\n"
     ]
    },
    {
     "data": {
      "text/plain": [
       "array([6], dtype=int32)"
      ]
     },
     "execution_count": 49,
     "metadata": {},
     "output_type": "execute_result"
    }
   ],
   "source": [
    "knn.predict([[48.391983, 42.322276]])"
   ]
  },
  {
   "cell_type": "code",
   "execution_count": 72,
   "id": "b6176382-9dc3-4471-8fe9-3f80f0ea5aa5",
   "metadata": {},
   "outputs": [],
   "source": [
    "import joblib"
   ]
  },
  {
   "cell_type": "code",
   "execution_count": 74,
   "id": "899adced-6d3d-4166-ae90-012c70cd9335",
   "metadata": {},
   "outputs": [
    {
     "data": {
      "text/plain": [
       "['knn.joblib']"
      ]
     },
     "execution_count": 74,
     "metadata": {},
     "output_type": "execute_result"
    }
   ],
   "source": [
    "joblib.dump(knn, 'knn.joblib')"
   ]
  },
  {
   "cell_type": "code",
   "execution_count": 70,
   "id": "70278d32-f78f-4c95-a845-add8c1bb3645",
   "metadata": {},
   "outputs": [
    {
     "data": {
      "text/plain": [
       "KMeans(n_clusters=10)"
      ]
     },
     "execution_count": 70,
     "metadata": {},
     "output_type": "execute_result"
    }
   ],
   "source": [
    "knn"
   ]
  },
  {
   "cell_type": "code",
   "execution_count": 39,
   "id": "3d7431ee-18a2-4875-ae2d-497d0a8b4885",
   "metadata": {},
   "outputs": [],
   "source": [
    "a = {1: 3, 2: 10, 6: 10}"
   ]
  },
  {
   "cell_type": "code",
   "execution_count": 41,
   "id": "32fe771d-ea91-46d7-81db-32a806856ca3",
   "metadata": {},
   "outputs": [
    {
     "data": {
      "text/plain": [
       "True"
      ]
     },
     "execution_count": 41,
     "metadata": {},
     "output_type": "execute_result"
    }
   ],
   "source": [
    "a[6] > 7"
   ]
  },
  {
   "cell_type": "code",
   "execution_count": 42,
   "id": "4c8da61c-63bc-435d-8c58-9c7c6070ffd3",
   "metadata": {},
   "outputs": [],
   "source": [
    "d = {}\n",
    "\n",
    "for label in knn.labels_:\n",
    "    if not label in d:\n",
    "        d[label] = 1\n",
    "    else:\n",
    "        d[label] += 1"
   ]
  },
  {
   "cell_type": "code",
   "execution_count": 47,
   "id": "21ad18c4-526c-434b-855a-a01377ab830e",
   "metadata": {},
   "outputs": [],
   "source": [
    "mean_val = sum(d.values()) / len(d)"
   ]
  },
  {
   "cell_type": "code",
   "execution_count": 67,
   "id": "4b319f48-7c3a-457b-be9d-3b17bff5a7c2",
   "metadata": {},
   "outputs": [
    {
     "data": {
      "text/plain": [
       "32468.5"
      ]
     },
     "execution_count": 67,
     "metadata": {},
     "output_type": "execute_result"
    }
   ],
   "source": [
    "mean_val"
   ]
  },
  {
   "cell_type": "code",
   "execution_count": 59,
   "id": "895ee081-7d39-4077-ba56-a3497afd6473",
   "metadata": {},
   "outputs": [],
   "source": [
    "# a.split() -> after map [1.0, 2.0]"
   ]
  },
  {
   "cell_type": "code",
   "execution_count": 62,
   "id": "b94b0b06-783f-4125-940c-7515f44cb300",
   "metadata": {},
   "outputs": [
    {
     "name": "stdin",
     "output_type": "stream",
     "text": [
      " 48.391983 10.322276\n"
     ]
    },
    {
     "data": {
      "text/plain": [
       "[48.391983, 10.322276]"
      ]
     },
     "execution_count": 62,
     "metadata": {},
     "output_type": "execute_result"
    }
   ],
   "source": [
    "list(map(float, input().split()))"
   ]
  },
  {
   "cell_type": "code",
   "execution_count": 50,
   "id": "0261cb57-17c8-4b54-8c26-873e1d685237",
   "metadata": {},
   "outputs": [],
   "source": [
    "def predict_dangerous(lat, lon):\n",
    "    label = knn.predict([[lat, lon]])[0]\n",
    "    count = d[label]\n",
    "    \n",
    "    if count > mean_val:\n",
    "        return 'danger'\n",
    "    else:\n",
    "        return 'not danger'"
   ]
  },
  {
   "cell_type": "code",
   "execution_count": 53,
   "id": "1c1cb41d-c032-4c07-8a34-1993b4f88e2a",
   "metadata": {},
   "outputs": [
    {
     "name": "stderr",
     "output_type": "stream",
     "text": [
      "/Users/michil/.virtualenvs/base/lib/python3.8/site-packages/sklearn/base.py:445: UserWarning: X does not have valid feature names, but KMeans was fitted with feature names\n",
      "  warnings.warn(\n"
     ]
    },
    {
     "data": {
      "text/plain": [
       "'not danger'"
      ]
     },
     "execution_count": 53,
     "metadata": {},
     "output_type": "execute_result"
    }
   ],
   "source": [
    "predict_dangerous(48.391983, 10.322276)"
   ]
  },
  {
   "cell_type": "code",
   "execution_count": 117,
   "id": "942c4caa-2bc5-4dcf-8a74-6a7a9087c8ea",
   "metadata": {},
   "outputs": [],
   "source": [
    "import seaborn as sns"
   ]
  },
  {
   "cell_type": "code",
   "execution_count": 136,
   "id": "fed9ebf6-a787-4cf9-92ba-b8c67fb0e534",
   "metadata": {},
   "outputs": [],
   "source": [
    "region = general_df.region.value_counts()[:30]"
   ]
  },
  {
   "cell_type": "code",
   "execution_count": 137,
   "id": "54b7af91-e806-46a2-871b-d2e15b410423",
   "metadata": {},
   "outputs": [
    {
     "data": {
      "text/plain": [
       "<AxesSubplot:>"
      ]
     },
     "execution_count": 137,
     "metadata": {},
     "output_type": "execute_result"
    },
    {
     "data": {
      "image/png": "[encoded data removed]",
      "text/plain": [
       "<Figure size 432x288 with 1 Axes>"
      ]
     },
     "metadata": {
      "needs_background": "light"
     },
     "output_type": "display_data"
    }
   ],
   "source": [
    "region.plot.bar()"
   ]
  },
  {
   "cell_type": "code",
   "execution_count": 138,
   "id": "6d5d07fa-60c1-4385-93d1-3518596e5434",
   "metadata": {},
   "outputs": [
    {
     "data": {
      "text/plain": [
       "<AxesSubplot:xlabel='lon', ylabel='lat'>"
      ]
     },
     "execution_count": 138,
     "metadata": {},
     "output_type": "execute_result"
    },
    {
     "data": {
      "image/png": "[encoded data removed]",
      "text/plain": [
       "<Figure size 432x288 with 1 Axes>"
      ]
     },
     "metadata": {
      "needs_background": "light"
     },
     "output_type": "display_data"
    }
   ],
   "source": [
    "sns.scatterplot(data=general_df, x='lon', y='lat')"
   ]
  },
  {
   "cell_type": "markdown",
   "id": "315d0604-4dc9-44e0-81cb-1346cc3f73e8",
   "metadata": {},
   "source": [
    "Визуализация почитать\n"
   ]
  }
 ],
 "metadata": {
  "kernelspec": {
   "display_name": "Python 3 (ipykernel)",
   "language": "python",
   "name": "python3"
  },
  "language_info": {
   "codemirror_mode": {
    "name": "ipython",
    "version": 3
   },
   "file_extension": ".py",
   "mimetype": "text/x-python",
   "name": "python",
   "nbconvert_exporter": "python",
   "pygments_lexer": "ipython3",
   "version": "3.8.2"
  }
 },
 "nbformat": 4,
 "nbformat_minor": 5
}
