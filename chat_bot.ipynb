{
 "cells": [
  {
   "cell_type": "code",
   "execution_count": 2,
   "id": "b0f48bb5-0825-469b-83d4-990d93d80579",
   "metadata": {},
   "outputs": [],
   "source": [
    "import joblib"
   ]
  },
  {
   "cell_type": "code",
   "execution_count": 3,
   "id": "fa04bc78-0ab3-4be8-a9b6-59101917f3ee",
   "metadata": {},
   "outputs": [],
   "source": [
    "knn = joblib.load('knn.joblib')"
   ]
  },
  {
   "cell_type": "code",
   "execution_count": 5,
   "id": "f8725b3f-31dd-4dfb-8755-b47be1fe9c0c",
   "metadata": {},
   "outputs": [
    {
     "name": "stderr",
     "output_type": "stream",
     "text": [
      "/Users/michil/.virtualenvs/base/lib/python3.8/site-packages/sklearn/base.py:445: UserWarning: X does not have valid feature names, but KMeans was fitted with feature names\n",
      "  warnings.warn(\n"
     ]
    },
    {
     "data": {
      "text/plain": [
       "array([6], dtype=int32)"
      ]
     },
     "execution_count": 5,
     "metadata": {},
     "output_type": "execute_result"
    }
   ],
   "source": [
    "knn.predict([[48.391983, 42.322276]])"
   ]
  },
  {
   "cell_type": "code",
   "execution_count": 7,
   "id": "bf4204b8-8a86-4913-a776-93e2ca8bce21",
   "metadata": {},
   "outputs": [],
   "source": [
    "import joblib\n",
    "\n",
    "knn = joblib.load('knn.joblib')\n",
    "\n",
    "mean_val = 32468.5\n",
    "d = {\n",
    "    6: 79561,\n",
    "    7: 8409,\n",
    "    0: 59757,\n",
    "    1: 27064,\n",
    "    2: 60761,\n",
    "    8: 7412,\n",
    "    9: 39626,\n",
    "    3: 26653,\n",
    "    5: 11959,\n",
    "    4: 3483\n",
    "}"
   ]
  },
  {
   "cell_type": "code",
   "execution_count": 8,
   "id": "ecd2229f-fd5d-4fc1-b8ae-bef6cbb2ef2d",
   "metadata": {},
   "outputs": [
    {
     "name": "stdin",
     "output_type": "stream",
     "text": [
      " 2531 23\n"
     ]
    },
    {
     "name": "stdout",
     "output_type": "stream",
     "text": [
      "danger\n"
     ]
    },
    {
     "name": "stderr",
     "output_type": "stream",
     "text": [
      "/Users/michil/.virtualenvs/base/lib/python3.8/site-packages/sklearn/base.py:445: UserWarning: X does not have valid feature names, but KMeans was fitted with feature names\n",
      "  warnings.warn(\n"
     ]
    }
   ],
   "source": [
    "def predict_dangerous(lat, lon):\n",
    "    label = knn.predict([[lat, lon]])[0]\n",
    "    count = d[label]\n",
    "    \n",
    "    if count > mean_val:\n",
    "        return 'danger'\n",
    "    else:\n",
    "        return 'not danger'\n",
    "\n",
    "\n",
    "lat, lon = list(map(float, input().split()))\n",
    "\n",
    "print(predict_dangerous(lat, lon))"
   ]
  },
  {
   "cell_type": "code",
   "execution_count": 9,
   "id": "cc6276b5-2dbc-4785-aaa4-621453ee2237",
   "metadata": {},
   "outputs": [],
   "source": [
    "token = '5058360468:AAHePeNkiC6r-lvxR43V3FMXtqq0vQ40_hQ'"
   ]
  },
  {
   "cell_type": "code",
   "execution_count": 12,
   "id": "32f8b6b5-cf87-4854-bf8e-a6b8a4f7c7b8",
   "metadata": {},
   "outputs": [],
   "source": [
    "import telebot"
   ]
  },
  {
   "cell_type": "code",
   "execution_count": 19,
   "id": "2dcffbf5-fec6-4afa-b793-328f122d523d",
   "metadata": {},
   "outputs": [
    {
     "name": "stderr",
     "output_type": "stream",
     "text": [
      "2021-12-21 15:57:50,870 (__init__.py:621 MainThread) ERROR - TeleBot: \"Infinity polling exception: could not convert string to float: 'па'\"\n",
      "2021-12-21 15:57:50,873 (__init__.py:623 MainThread) ERROR - TeleBot: \"Exception traceback:\n",
      "Traceback (most recent call last):\n",
      "  File \"/Users/michil/.virtualenvs/base/lib/python3.8/site-packages/telebot/__init__.py\", line 617, in infinity_polling\n",
      "    self.polling(none_stop=True, timeout=timeout, long_polling_timeout=long_polling_timeout,\n",
      "  File \"/Users/michil/.virtualenvs/base/lib/python3.8/site-packages/telebot/__init__.py\", line 664, in polling\n",
      "    self.__threaded_polling(non_stop, interval, timeout, long_polling_timeout, allowed_updates)\n",
      "  File \"/Users/michil/.virtualenvs/base/lib/python3.8/site-packages/telebot/__init__.py\", line 726, in __threaded_polling\n",
      "    raise e\n",
      "  File \"/Users/michil/.virtualenvs/base/lib/python3.8/site-packages/telebot/__init__.py\", line 686, in __threaded_polling\n",
      "    self.worker_pool.raise_exceptions()\n",
      "  File \"/Users/michil/.virtualenvs/base/lib/python3.8/site-packages/telebot/util.py\", line 135, in raise_exceptions\n",
      "    raise self.exception_info\n",
      "  File \"/Users/michil/.virtualenvs/base/lib/python3.8/site-packages/telebot/util.py\", line 87, in run\n",
      "    task(*args, **kwargs)\n",
      "  File \"/var/folders/yb/ysqh2wxs6v1_4q_92fnn6q380000gn/T/ipykernel_17200/3259083667.py\", line 11, in repeat_all_messages\n",
      "    lat, lon = list(map(float, message.text.split()))\n",
      "ValueError: could not convert string to float: 'па'\n",
      "\"\n",
      "2021-12-21 15:59:53,151 (__init__.py:627 MainThread) ERROR - TeleBot: \"Infinity polling: polling exited\"\n",
      "2021-12-21 15:59:53,152 (__init__.py:629 MainThread) ERROR - TeleBot: \"Break infinity polling\"\n"
     ]
    }
   ],
   "source": [
    "bot = telebot.TeleBot(token)\n",
    "\n",
    "@bot.message_handler(content_types=[\"text\"])\n",
    "def repeat_all_messages(message): # Название функции не играет никакой роли\n",
    "    # message.text == 12.5453 65.3231\n",
    "    items = message.text.split()\n",
    "    \n",
    "    if len(items) != 2:\n",
    "        answer = 'Два вещественных числа, пожалуйста'\n",
    "    else:\n",
    "        lat, lon = list(map(float, message.text.split()))\n",
    "        answer = predict_dangerous(lat, lon)\n",
    "\n",
    "    bot.send_message(message.chat.id, answer)\n",
    "\n",
    "if __name__ == '__main__':\n",
    "     bot.infinity_polling()"
   ]
  },
  {
   "cell_type": "code",
   "execution_count": null,
   "id": "20aa4fbe-2eb0-4d4c-b4ca-1d76368e4e7f",
   "metadata": {},
   "outputs": [],
   "source": []
  }
 ],
 "metadata": {
  "kernelspec": {
   "display_name": "Python 3 (ipykernel)",
   "language": "python",
   "name": "python3"
  },
  "language_info": {
   "codemirror_mode": {
    "name": "ipython",
    "version": 3
   },
   "file_extension": ".py",
   "mimetype": "text/x-python",
   "name": "python",
   "nbconvert_exporter": "python",
   "pygments_lexer": "ipython3",
   "version": "3.8.2"
  }
 },
 "nbformat": 4,
 "nbformat_minor": 5
}
